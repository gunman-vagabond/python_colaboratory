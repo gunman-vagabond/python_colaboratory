{
  "nbformat": 4,
  "nbformat_minor": 0,
  "metadata": {
    "colab": {
      "name": "gunmanPrediction.ipynb",
      "version": "0.3.2",
      "provenance": [],
      "collapsed_sections": [],
      "include_colab_link": true
    },
    "kernelspec": {
      "name": "python3",
      "display_name": "Python 3"
    }
  },
  "cells": [
    {
      "cell_type": "markdown",
      "metadata": {
        "id": "view-in-github",
        "colab_type": "text"
      },
      "source": [
        "<a href=\"https://colab.research.google.com/github/gunman-vagabond/python_colaboratory/blob/master/gunmanPrediction.ipynb\" target=\"_parent\"><img src=\"https://colab.research.google.com/assets/colab-badge.svg\" alt=\"Open In Colab\"/></a>"
      ]
    },
    {
      "metadata": {
        "id": "EcHJ8TkNxYRT",
        "colab_type": "code",
        "outputId": "98423297-767e-4bef-902f-ed64ce346d21",
        "colab": {
          "base_uri": "https://localhost:8080/",
          "height": 1625
        }
      },
      "cell_type": "code",
      "source": [
        "!pip install keras==2.2.4\n",
        "\n",
        "!wget http://fc.jpn.org/ryuba/gunman/keras/gunmanRecognition/gunmanRecognition.json -O gunmanRecognition.json\n",
        "!wget http://fc.jpn.org/ryuba/gunman/keras/gunmanRecognition/gunmanRecognition.h5 -O gunmanRecognition.h5\n",
        "#!wget http://fc.jpn.org/ryuba/gunman/pic/Gunman.jpg -O testImage.jpg\n",
        "!wget https://animeanime.jp/imgs/p/jtKDOVlKAvjRrNw8SXAVejagI61Nrq_oqaqr/146856.jpg -O testImage.jpg\n",
        "!ls -la\n",
        "\n",
        "import keras\n",
        "from keras.utils import np_utils\n",
        "from keras.models import Sequential\n",
        "from keras.models import model_from_json\n",
        "\n",
        "from keras.layers.convolutional import Conv2D, MaxPooling2D\n",
        "from keras.layers.core import Dense, Dropout, Activation, Flatten\n",
        "import numpy as np\n",
        "from sklearn.model_selection import train_test_split\n",
        "from PIL import Image\n",
        "import glob\n",
        "import os.path\n",
        "\n",
        "image_size = 50\n",
        "image = Image.open(\"testImage.jpg\")\n",
        "image = image.convert(\"RGB\")\n",
        "image = image.resize((image_size, image_size))\n",
        "data = np.asarray(image)\n",
        "\n",
        "X = []\n",
        "X.append(data)\n",
        "X = np.array(X)\n",
        "\n",
        "X = X.astype('float32')\n",
        "X = X / 255.0\n",
        "\n",
        "#model = load_model('gunmanRecognition.h5')\n",
        "\n",
        "\n",
        "f_model = \"./\"\n",
        "model_filename = \"gunmanRecognition.json\"\n",
        "weights_filename = \"gunmanRecognition.h5\"\n",
        "\n",
        "json_string = open(os.path.join(f_model, model_filename)).read()\n",
        "model = model_from_json(json_string)\n",
        "\n",
        "model.summary()\n",
        "\n",
        "#model.compile(loss='categorical_crossentropy', optimizer=Adam(lr=0.001, beta_1=0.5), metrics=['accuracy'])\n",
        "model.load_weights(os.path.join(f_model,weights_filename))\n",
        "\n",
        "ret = model.predict(X, batch_size=1)\n",
        "print(\"predict ret:\", ret , \" (gunman, ultraman, rider, precure)\")\n",
        "\n",
        "import matplotlib.pyplot as plt\n",
        "from matplotlib import cm\n",
        "\n",
        "#plt.imshow(X.reshape(50, 50), cmap=cm.gray_r)\n",
        "plt.imshow(image, cmap=cm.gray_r)\n",
        "plt.show()\n",
        "\n",
        "bestscore = 0.0\n",
        "bestnum = 0\n",
        "for n in [0,1,2,3]:\n",
        "    if bestscore < ret[0][n]:\n",
        "        bestscore = ret[0][n]\n",
        "        bestnum = n\n",
        "\n",
        "category = [\"gunman\", \"ultraman\", \"rider\", \"precure\"]\n",
        "        \n",
        "print(\"I think this image is a '\" + category[bestnum] + \"'.\")"
      ],
      "execution_count": 0,
      "outputs": [
        {
          "output_type": "stream",
          "text": [
            "Requirement already satisfied: keras==2.2.4 in /usr/local/lib/python3.6/dist-packages (2.2.4)\n",
            "Requirement already satisfied: h5py in /usr/local/lib/python3.6/dist-packages (from keras==2.2.4) (2.8.0)\n",
            "Requirement already satisfied: pyyaml in /usr/local/lib/python3.6/dist-packages (from keras==2.2.4) (3.13)\n",
            "Requirement already satisfied: keras-preprocessing>=1.0.5 in /usr/local/lib/python3.6/dist-packages (from keras==2.2.4) (1.0.5)\n",
            "Requirement already satisfied: keras-applications>=1.0.6 in /usr/local/lib/python3.6/dist-packages (from keras==2.2.4) (1.0.6)\n",
            "Requirement already satisfied: scipy>=0.14 in /usr/local/lib/python3.6/dist-packages (from keras==2.2.4) (1.1.0)\n",
            "Requirement already satisfied: six>=1.9.0 in /usr/local/lib/python3.6/dist-packages (from keras==2.2.4) (1.11.0)\n",
            "Requirement already satisfied: numpy>=1.9.1 in /usr/local/lib/python3.6/dist-packages (from keras==2.2.4) (1.14.6)\n",
            "--2019-01-19 16:52:42--  http://fc.jpn.org/ryuba/gunman/keras/gunmanRecognition/gunmanRecognition.json\n",
            "Resolving fc.jpn.org (fc.jpn.org)... 59.106.13.159\n",
            "Connecting to fc.jpn.org (fc.jpn.org)|59.106.13.159|:80... connected.\n",
            "HTTP request sent, awaiting response... 200 OK\n",
            "Length: 4988 (4.9K) [application/json]\n",
            "Saving to: ‘gunmanRecognition.json’\n",
            "\n",
            "gunmanRecognition.j 100%[===================>]   4.87K  31.5KB/s    in 0.2s    \n",
            "\n",
            "2019-01-19 16:52:43 (31.5 KB/s) - ‘gunmanRecognition.json’ saved [4988/4988]\n",
            "\n",
            "--2019-01-19 16:52:44--  http://fc.jpn.org/ryuba/gunman/keras/gunmanRecognition/gunmanRecognition.h5\n",
            "Resolving fc.jpn.org (fc.jpn.org)... 59.106.13.159\n",
            "Connecting to fc.jpn.org (fc.jpn.org)|59.106.13.159|:80... connected.\n",
            "HTTP request sent, awaiting response... 200 OK\n",
            "Length: 16166800 (15M)\n",
            "Saving to: ‘gunmanRecognition.h5’\n",
            "\n",
            "gunmanRecognition.h 100%[===================>]  15.42M  1.03MB/s    in 6.9s    \n",
            "\n",
            "2019-01-19 16:52:51 (2.24 MB/s) - ‘gunmanRecognition.h5’ saved [16166800/16166800]\n",
            "\n",
            "--2019-01-19 16:52:53--  https://animeanime.jp/imgs/p/jtKDOVlKAvjRrNw8SXAVejagI61Nrq_oqaqr/146856.jpg\n",
            "Resolving animeanime.jp (animeanime.jp)... 124.147.8.233\n",
            "Connecting to animeanime.jp (animeanime.jp)|124.147.8.233|:443... connected.\n",
            "HTTP request sent, awaiting response... 200 OK\n",
            "Length: 49815 (49K) [image/jpeg]\n",
            "Saving to: ‘testImage.jpg’\n",
            "\n",
            "testImage.jpg       100%[===================>]  48.65K  78.5KB/s    in 0.6s    \n",
            "\n",
            "2019-01-19 16:52:54 (78.5 KB/s) - ‘testImage.jpg’ saved [49815/49815]\n",
            "\n",
            "total 15876\n",
            "drwxr-xr-x 1 root root     4096 Jan 19 16:52 .\n",
            "drwxr-xr-x 1 root root     4096 Jan 19 16:51 ..\n",
            "drwxr-xr-x 1 root root     4096 Jan  8 17:14 .config\n",
            "-rw-r--r-- 1 root root 16166800 Jan 14 14:44 gunmanRecognition.h5\n",
            "-rw-r--r-- 1 root root     4988 Jan 14 14:46 gunmanRecognition.json\n",
            "drwxr-xr-x 1 root root     4096 Jan  8 17:15 sample_data\n",
            "-rw-r--r-- 1 root root    49815 Jul  9  2018 testImage.jpg\n"
          ],
          "name": "stdout"
        },
        {
          "output_type": "stream",
          "text": [
            "Using TensorFlow backend.\n"
          ],
          "name": "stderr"
        },
        {
          "output_type": "stream",
          "text": [
            "_________________________________________________________________\n",
            "Layer (type)                 Output Shape              Param #   \n",
            "=================================================================\n",
            "conv2d_1 (Conv2D)            (None, 50, 50, 32)        896       \n",
            "_________________________________________________________________\n",
            "activation_1 (Activation)    (None, 50, 50, 32)        0         \n",
            "_________________________________________________________________\n",
            "conv2d_2 (Conv2D)            (None, 48, 48, 32)        9248      \n",
            "_________________________________________________________________\n",
            "activation_2 (Activation)    (None, 48, 48, 32)        0         \n",
            "_________________________________________________________________\n",
            "max_pooling2d_1 (MaxPooling2 (None, 24, 24, 32)        0         \n",
            "_________________________________________________________________\n",
            "dropout_1 (Dropout)          (None, 24, 24, 32)        0         \n",
            "_________________________________________________________________\n",
            "conv2d_3 (Conv2D)            (None, 24, 24, 64)        18496     \n",
            "_________________________________________________________________\n",
            "activation_3 (Activation)    (None, 24, 24, 64)        0         \n",
            "_________________________________________________________________\n",
            "conv2d_4 (Conv2D)            (None, 22, 22, 64)        36928     \n",
            "_________________________________________________________________\n",
            "activation_4 (Activation)    (None, 22, 22, 64)        0         \n",
            "_________________________________________________________________\n",
            "max_pooling2d_2 (MaxPooling2 (None, 11, 11, 64)        0         \n",
            "_________________________________________________________________\n",
            "dropout_2 (Dropout)          (None, 11, 11, 64)        0         \n",
            "_________________________________________________________________\n",
            "flatten_1 (Flatten)          (None, 7744)              0         \n",
            "_________________________________________________________________\n",
            "dense_1 (Dense)              (None, 512)               3965440   \n",
            "_________________________________________________________________\n",
            "activation_5 (Activation)    (None, 512)               0         \n",
            "_________________________________________________________________\n",
            "dropout_3 (Dropout)          (None, 512)               0         \n",
            "_________________________________________________________________\n",
            "dense_2 (Dense)              (None, 4)                 2052      \n",
            "_________________________________________________________________\n",
            "activation_6 (Activation)    (None, 4)                 0         \n",
            "=================================================================\n",
            "Total params: 4,033,060\n",
            "Trainable params: 4,033,060\n",
            "Non-trainable params: 0\n",
            "_________________________________________________________________\n",
            "predict ret: [[8.7695707e-06 9.9998617e-01 2.9999080e-06 2.0470495e-06]]  (gunman, ultraman, rider, precure)\n"
          ],
          "name": "stdout"
        },
        {
          "output_type": "display_data",
          "data": {
            "image/png": "[encoded data removed]",
            "text/plain": [
              "<Figure size 576x396 with 1 Axes>"
            ]
          },
          "metadata": {
            "tags": []
          }
        },
        {
          "output_type": "stream",
          "text": [
            "I think this image is a 'ultraman'.\n"
          ],
          "name": "stdout"
        }
      ]
    }
  ]
}