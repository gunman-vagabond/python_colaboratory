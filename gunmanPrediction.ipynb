{
  "nbformat": 4,
  "nbformat_minor": 0,
  "metadata": {
    "colab": {
      "name": "gunmanPrediction.ipynb",
      "version": "0.3.2",
      "provenance": [],
      "collapsed_sections": [],
      "include_colab_link": true
    },
    "kernelspec": {
      "name": "python3",
      "display_name": "Python 3"
    }
  },
  "cells": [
    {
      "cell_type": "markdown",
      "metadata": {
        "id": "view-in-github",
        "colab_type": "text"
      },
      "source": [
        "<a href=\"https://colab.research.google.com/github/gunman-vagabond/python_colaboratory/blob/master/gunmanPrediction.ipynb\" target=\"_parent\"><img src=\"https://colab.research.google.com/assets/colab-badge.svg\" alt=\"Open In Colab\"/></a>"
      ]
    },
    {
      "metadata": {
        "id": "EcHJ8TkNxYRT",
        "colab_type": "code",
        "outputId": "b4a0c89d-0e1e-4384-f8bb-d443f48a55ed",
        "colab": {
          "base_uri": "https://localhost:8080/",
          "height": 2085
        }
      },
      "cell_type": "code",
      "source": [
        "!pip install keras==2.2.4\n",
        "\n",
        "!wget http://fc.jpn.org/ryuba/gunman/keras/gunmanRecognition/gunmanRecognition.json -O gunmanRecognition.json\n",
        "!wget http://fc.jpn.org/ryuba/gunman/keras/gunmanRecognition/gunmanRecognition.h5 -O gunmanRecognition.h5\n",
        "!wget http://fc.jpn.org/ryuba/gunman/pic/Gunman.jpg -O testImage.jpg\n",
        "#!wget https://animeanime.jp/imgs/p/jtKDOVlKAvjRrNw8SXAVejagI61Nrq_oqaqr/146856.jpg -O testImage.jpg\n",
        "!ls -la\n",
        "\n",
        "import keras\n",
        "from keras.utils import np_utils\n",
        "from keras.models import Sequential\n",
        "from keras.models import model_from_json\n",
        "\n",
        "from keras.layers.convolutional import Conv2D, MaxPooling2D\n",
        "from keras.layers.core import Dense, Dropout, Activation, Flatten\n",
        "import numpy as np\n",
        "from sklearn.model_selection import train_test_split\n",
        "from PIL import Image\n",
        "import glob\n",
        "import os.path\n",
        "\n",
        "image_size = 50\n",
        "image = Image.open(\"testImage.jpg\")\n",
        "image = image.convert(\"RGB\")\n",
        "image = image.resize((image_size, image_size))\n",
        "data = np.asarray(image)\n",
        "\n",
        "X = []\n",
        "X.append(data)\n",
        "X = np.array(X)\n",
        "\n",
        "X = X.astype('float32')\n",
        "X = X / 255.0\n",
        "\n",
        "#model = load_model('gunmanRecognition.h5')\n",
        "\n",
        "\n",
        "f_model = \"./\"\n",
        "model_filename = \"gunmanRecognition.json\"\n",
        "weights_filename = \"gunmanRecognition.h5\"\n",
        "\n",
        "json_string = open(os.path.join(f_model, model_filename)).read()\n",
        "model = model_from_json(json_string)\n",
        "\n",
        "model.summary()\n",
        "\n",
        "#model.compile(loss='categorical_crossentropy', optimizer=Adam(lr=0.001, beta_1=0.5), metrics=['accuracy'])\n",
        "model.load_weights(os.path.join(f_model,weights_filename))\n",
        "\n",
        "ret = model.predict(X, batch_size=1)\n",
        "print(\"predict ret:\", ret , \" (gunman, ultraman, rider, precure)\")\n",
        "\n",
        "import matplotlib.pyplot as plt\n",
        "from matplotlib import cm\n",
        "\n",
        "#plt.imshow(X.reshape(50, 50), cmap=cm.gray_r)\n",
        "plt.imshow(image, cmap=cm.gray_r)\n",
        "plt.show()\n",
        "\n",
        "bestscore = 0.0\n",
        "bestnum = 0\n",
        "for n in [0,1,2,3]:\n",
        "    if bestscore < ret[0][n]:\n",
        "        bestscore = ret[0][n]\n",
        "        bestnum = n\n",
        "\n",
        "category = [\"gunman\", \"ultraman\", \"rider\", \"precure\"]\n",
        "        \n",
        "print(\"I think this image is a '\" + category[bestnum] + \"'.\")"
      ],
      "execution_count": 1,
      "outputs": [
        {
          "output_type": "stream",
          "text": [
            "Requirement already satisfied: keras==2.2.4 in /usr/local/lib/python3.6/dist-packages (2.2.4)\n",
            "Requirement already satisfied: h5py in /usr/local/lib/python3.6/dist-packages (from keras==2.2.4) (2.8.0)\n",
            "Requirement already satisfied: pyyaml in /usr/local/lib/python3.6/dist-packages (from keras==2.2.4) (3.13)\n",
            "Requirement already satisfied: six>=1.9.0 in /usr/local/lib/python3.6/dist-packages (from keras==2.2.4) (1.11.0)\n",
            "Requirement already satisfied: numpy>=1.9.1 in /usr/local/lib/python3.6/dist-packages (from keras==2.2.4) (1.14.6)\n",
            "Requirement already satisfied: keras-applications>=1.0.6 in /usr/local/lib/python3.6/dist-packages (from keras==2.2.4) (1.0.7)\n",
            "Requirement already satisfied: keras-preprocessing>=1.0.5 in /usr/local/lib/python3.6/dist-packages (from keras==2.2.4) (1.0.9)\n",
            "Requirement already satisfied: scipy>=0.14 in /usr/local/lib/python3.6/dist-packages (from keras==2.2.4) (1.1.0)\n",
            "--2019-03-09 22:34:35--  http://fc.jpn.org/ryuba/gunman/keras/gunmanRecognition/gunmanRecognition.json\n",
            "Resolving fc.jpn.org (fc.jpn.org)... 59.106.13.159\n",
            "Connecting to fc.jpn.org (fc.jpn.org)|59.106.13.159|:80... connected.\n",
            "HTTP request sent, awaiting response... 200 OK\n",
            "Length: 4988 (4.9K) [application/json]\n",
            "Saving to: ‘gunmanRecognition.json’\n",
            "\n",
            "gunmanRecognition.j 100%[===================>]   4.87K  --.-KB/s    in 0.09s   \n",
            "\n",
            "2019-03-09 22:34:35 (54.9 KB/s) - ‘gunmanRecognition.json’ saved [4988/4988]\n",
            "\n",
            "--2019-03-09 22:34:36--  http://fc.jpn.org/ryuba/gunman/keras/gunmanRecognition/gunmanRecognition.h5\n",
            "Resolving fc.jpn.org (fc.jpn.org)... 59.106.13.159\n",
            "Connecting to fc.jpn.org (fc.jpn.org)|59.106.13.159|:80... connected.\n",
            "HTTP request sent, awaiting response... 200 OK\n",
            "Length: 16166800 (15M)\n",
            "Saving to: ‘gunmanRecognition.h5’\n",
            "\n",
            "gunmanRecognition.h 100%[===================>]  15.42M  1.59MB/s    in 9.1s    \n",
            "\n",
            "2019-03-09 22:34:45 (1.70 MB/s) - ‘gunmanRecognition.h5’ saved [16166800/16166800]\n",
            "\n",
            "--2019-03-09 22:34:46--  http://fc.jpn.org/ryuba/gunman/pic/Gunman.jpg\n",
            "Resolving fc.jpn.org (fc.jpn.org)... 59.106.13.159\n",
            "Connecting to fc.jpn.org (fc.jpn.org)|59.106.13.159|:80... connected.\n",
            "HTTP request sent, awaiting response... 200 OK\n",
            "Length: 9591 (9.4K) [image/jpeg]\n",
            "Saving to: ‘testImage.jpg’\n",
            "\n",
            "testImage.jpg       100%[===================>]   9.37K  --.-KB/s    in 0.09s   \n",
            "\n",
            "2019-03-09 22:34:46 (105 KB/s) - ‘testImage.jpg’ saved [9591/9591]\n",
            "\n",
            "total 15832\n",
            "drwxr-xr-x 1 root root     4096 Mar  9 22:34 .\n",
            "drwxr-xr-x 1 root root     4096 Mar  9 22:33 ..\n",
            "drwxr-xr-x 1 root root     4096 Feb 26 17:33 .config\n",
            "-rw-r--r-- 1 root root 16166800 Jan 14 14:44 gunmanRecognition.h5\n",
            "-rw-r--r-- 1 root root     4988 Jan 14 14:46 gunmanRecognition.json\n",
            "drwxr-xr-x 1 root root     4096 Feb 26 17:33 sample_data\n",
            "-rw-r--r-- 1 root root     9591 Jan  4  1997 testImage.jpg\n"
          ],
          "name": "stdout"
        },
        {
          "output_type": "stream",
          "text": [
            "Using TensorFlow backend.\n"
          ],
          "name": "stderr"
        },
        {
          "output_type": "stream",
          "text": [
            "WARNING:tensorflow:From /usr/local/lib/python3.6/dist-packages/tensorflow/python/framework/op_def_library.py:263: colocate_with (from tensorflow.python.framework.ops) is deprecated and will be removed in a future version.\n",
            "Instructions for updating:\n",
            "Colocations handled automatically by placer.\n",
            "WARNING:tensorflow:From /usr/local/lib/python3.6/dist-packages/keras/backend/tensorflow_backend.py:3445: calling dropout (from tensorflow.python.ops.nn_ops) with keep_prob is deprecated and will be removed in a future version.\n",
            "Instructions for updating:\n",
            "Please use `rate` instead of `keep_prob`. Rate should be set to `rate = 1 - keep_prob`.\n",
            "_________________________________________________________________\n",
            "Layer (type)                 Output Shape              Param #   \n",
            "=================================================================\n",
            "conv2d_1 (Conv2D)            (None, 50, 50, 32)        896       \n",
            "_________________________________________________________________\n",
            "activation_1 (Activation)    (None, 50, 50, 32)        0         \n",
            "_________________________________________________________________\n",
            "conv2d_2 (Conv2D)            (None, 48, 48, 32)        9248      \n",
            "_________________________________________________________________\n",
            "activation_2 (Activation)    (None, 48, 48, 32)        0         \n",
            "_________________________________________________________________\n",
            "max_pooling2d_1 (MaxPooling2 (None, 24, 24, 32)        0         \n",
            "_________________________________________________________________\n",
            "dropout_1 (Dropout)          (None, 24, 24, 32)        0         \n",
            "_________________________________________________________________\n",
            "conv2d_3 (Conv2D)            (None, 24, 24, 64)        18496     \n",
            "_________________________________________________________________\n",
            "activation_3 (Activation)    (None, 24, 24, 64)        0         \n",
            "_________________________________________________________________\n",
            "conv2d_4 (Conv2D)            (None, 22, 22, 64)        36928     \n",
            "_________________________________________________________________\n",
            "activation_4 (Activation)    (None, 22, 22, 64)        0         \n",
            "_________________________________________________________________\n",
            "max_pooling2d_2 (MaxPooling2 (None, 11, 11, 64)        0         \n",
            "_________________________________________________________________\n",
            "dropout_2 (Dropout)          (None, 11, 11, 64)        0         \n",
            "_________________________________________________________________\n",
            "flatten_1 (Flatten)          (None, 7744)              0         \n",
            "_________________________________________________________________\n",
            "dense_1 (Dense)              (None, 512)               3965440   \n",
            "_________________________________________________________________\n",
            "activation_5 (Activation)    (None, 512)               0         \n",
            "_________________________________________________________________\n",
            "dropout_3 (Dropout)          (None, 512)               0         \n",
            "_________________________________________________________________\n",
            "dense_2 (Dense)              (None, 4)                 2052      \n",
            "_________________________________________________________________\n",
            "activation_6 (Activation)    (None, 4)                 0         \n",
            "=================================================================\n",
            "Total params: 4,033,060\n",
            "Trainable params: 4,033,060\n",
            "Non-trainable params: 0\n",
            "_________________________________________________________________\n",
            "predict ret: [[9.9993134e-01 4.4107075e-12 6.8649722e-05 1.4884440e-16]]  (gunman, ultraman, rider, precure)\n"
          ],
          "name": "stdout"
        },
        {
          "output_type": "display_data",
          "data": {
            "image/png": "[encoded data removed]",
            "text/plain": [
              "<Figure size 576x396 with 1 Axes>"
            ]
          },
          "metadata": {
            "tags": []
          }
        },
        {
          "output_type": "stream",
          "text": [
            "I think this image is a 'gunman'.\n"
          ],
          "name": "stdout"
        }
      ]
    }
  ]
}